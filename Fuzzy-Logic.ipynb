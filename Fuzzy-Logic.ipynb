{
 "cells": [
  {
   "cell_type": "code",
   "execution_count": 1,
   "metadata": {},
   "outputs": [],
   "source": [
    "import pandas as pd\n",
    "import xlrd"
   ]
  },
  {
   "cell_type": "code",
   "execution_count": 2,
   "metadata": {},
   "outputs": [],
   "source": [
    "def readData():\n",
    "    workbook = xlrd.open_workbook('Mahasiswa.xls')\n",
    "    sheet = workbook.sheet_by_index(0)\n",
    "    dataTest = [sheet.row_values(rowx) for rowx in range(sheet.nrows)]\n",
    "    return dataTest"
   ]
  },
  {
   "cell_type": "code",
   "execution_count": 3,
   "metadata": {},
   "outputs": [],
   "source": [
    "def rumus(a,b,c,d):\n",
    "    return (a-b)/(c-d)"
   ]
  },
  {
   "cell_type": "code",
   "execution_count": 4,
   "metadata": {},
   "outputs": [],
   "source": [
    "def low(x,a,b):\n",
    "    if(x <= a):\n",
    "        return 1\n",
    "    elif (a < x < b):\n",
    "        return rumus(b,x,b,a)\n",
    "    else:\n",
    "        return 0"
   ]
  },
  {
   "cell_type": "code",
   "execution_count": 5,
   "metadata": {},
   "outputs": [],
   "source": [
    "def med(x,a,b,c,d):\n",
    "    if x <= a or x > d:\n",
    "        return 0\n",
    "    elif a < x < b:\n",
    "        return rumus(x,a,b,a)\n",
    "    elif b <= x <= c:\n",
    "        return 1\n",
    "    else:\n",
    "        return rumus(d,x,d,c)"
   ]
  },
  {
   "cell_type": "code",
   "execution_count": 6,
   "metadata": {},
   "outputs": [],
   "source": [
    "def high(x,a,b):\n",
    "    if x <= a:\n",
    "        return 0\n",
    "    elif a < x < b:\n",
    "        return rumus(x,a,b,a)\n",
    "    else:\n",
    "        return 1\n",
    "    "
   ]
  },
  {
   "cell_type": "code",
   "execution_count": 7,
   "metadata": {},
   "outputs": [],
   "source": [
    "def FuzzyPenghasilan(dataMhs):\n",
    "    for data in dataMhs:\n",
    "        data.append((low(float(data[1]),7,9)))\n",
    "        data.append((med(float(data[1]),6,8,12,14)))\n",
    "        data.append((high(float(data[1]),11,16)))"
   ]
  },
  {
   "cell_type": "code",
   "execution_count": 8,
   "metadata": {},
   "outputs": [],
   "source": [
    "def FuzzyPengeluaran(dataMhs):\n",
    "    for data in dataMhs:\n",
    "        data.append((low(float(data[2]),4,6)))\n",
    "        data.append((med(float(data[2]),5,6,8,9)))\n",
    "        data.append((high(float(data[2]),8,10)))"
   ]
  },
  {
   "cell_type": "code",
   "execution_count": 9,
   "metadata": {},
   "outputs": [],
   "source": [
    "def Inference(dataMhs):\n",
    "    for data in dataMhs:\n",
    "        data.append(max(min(data[4],data[6]),min(data[5],data[6]),min(data[5],data[7])))\n",
    "        data.append(max(min(data[3],data[6]),min(data[4],data[7]),min(data[5],data[8])))\n",
    "        data.append(max(min(data[3],data[7]),min(data[3],data[8]),min(data[4],data[8])))\n"
   ]
  },
  {
   "cell_type": "code",
   "execution_count": 10,
   "metadata": {},
   "outputs": [],
   "source": [
    "def deFuzzy(dataMhs):\n",
    "    for data in dataMhs:\n",
    "        defuzzy = ((data[9] * 50) + (data[10] * 70) + (data[11] * 100)) / (data[9]+data[10]+data[11])\n",
    "        data.append(defuzzy)"
   ]
  },
  {
   "cell_type": "code",
   "execution_count": 11,
   "metadata": {},
   "outputs": [],
   "source": [
    "def getdeFuzzy(data):\n",
    "    return data[12]"
   ]
  },
  {
   "cell_type": "code",
   "execution_count": 12,
   "metadata": {},
   "outputs": [
    {
     "name": "stdout",
     "output_type": "stream",
     "text": [
      "    Id\n",
      "0    4\n",
      "1    7\n",
      "2   11\n",
      "3   13\n",
      "4   33\n",
      "5   38\n",
      "6   41\n",
      "7   46\n",
      "8   47\n",
      "9   49\n",
      "10  50\n",
      "11  52\n",
      "12  63\n",
      "13  66\n",
      "14  69\n",
      "15  75\n",
      "16  79\n",
      "17  81\n",
      "18  94\n",
      "19  99\n",
      "Data telah diekspor dengan nama file Bantuan.xls\n"
     ]
    }
   ],
   "source": [
    "dataMhs = readData()\n",
    "dataMhs.pop(0)\n",
    "FuzzyPenghasilan(dataMhs)\n",
    "FuzzyPengeluaran(dataMhs)\n",
    "Inference(dataMhs)\n",
    "deFuzzy(dataMhs)\n",
    "dataMhs.sort(key=getdeFuzzy,reverse=True)\n",
    "arrHasil = []\n",
    "\n",
    "for i in dataMhs[0:20]:\n",
    "    arrHasil.append(int(i[0]))\n",
    "\n",
    "\n",
    "Hasil = pd.DataFrame(arrHasil)\n",
    "Hasil.columns = ['Id']\n",
    "Hasil.to_excel('Bantuan.xls',index=False)\n",
    "print(Hasil)\n",
    "print('Data telah diekspor dengan nama file Bantuan.xls')"
   ]
  },
  {
   "cell_type": "code",
   "execution_count": null,
   "metadata": {},
   "outputs": [],
   "source": []
  }
 ],
 "metadata": {
  "kernelspec": {
   "display_name": "Python 3",
   "language": "python",
   "name": "python3"
  },
  "language_info": {
   "codemirror_mode": {
    "name": "ipython",
    "version": 3
   },
   "file_extension": ".py",
   "mimetype": "text/x-python",
   "name": "python",
   "nbconvert_exporter": "python",
   "pygments_lexer": "ipython3",
   "version": "3.7.6"
  }
 },
 "nbformat": 4,
 "nbformat_minor": 4
}
